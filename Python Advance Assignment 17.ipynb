{
 "cells": [
  {
   "cell_type": "code",
   "execution_count": null,
   "id": "4f766283-8a80-4707-8991-4b773bc46ae8",
   "metadata": {},
   "outputs": [],
   "source": [
    "#1. Explain the difference between greedy and non-greedy syntax with visual terms in as few words as possible. \n",
    "#What is the bare minimum effort required to transform a greedy pattern into a non-greedy one? What characters or characters \n",
    "#can you introduce or change?\n",
    "\n",
    "Ans. The Main difference between Greedy and Non Greedy Match Syntax is The Greedy Match will try to match as many repetitions of the \n",
    "quantified pattern as possible Whereas The Non Greedy Match will try to match as few repetitions of the quantified pattern as possible."
   ]
  },
  {
   "cell_type": "code",
   "execution_count": null,
   "id": "6ea11ccd-30b1-4731-991e-c9d7bb27be15",
   "metadata": {},
   "outputs": [],
   "source": [
    "#2. When exactly does greedy versus non-greedy make a difference? What if you're looking for a non-greedy match but the only one available is greedy?\n",
    "\n",
    "Ans. The Greedy Match will try to match as many repetitions of the quantified pattern as possible. \n",
    "The Non Greedy Match will try to match as few repetitions of the quantified pattern as possible. \n",
    "If only Non Greedy Match is available, we can use other filtering or pattern matching methods of regex and further identify the required pattern.\n"
   ]
  },
  {
   "cell_type": "code",
   "execution_count": null,
   "id": "d4622f78-e415-464a-bf61-e21f85e27d39",
   "metadata": {},
   "outputs": [],
   "source": [
    "#3. In a simple match of a string, which looks only for one match and does not do any replacement, is the use of a nontagged group likely to make any practical difference?\n",
    "\n",
    "Ans. In this Case The Non Tagged Group will not make any diffrence in this case.\n"
   ]
  },
  {
   "cell_type": "code",
   "execution_count": null,
   "id": "726b1f7e-fccf-4e89-bb6d-9521bcc1a950",
   "metadata": {},
   "outputs": [],
   "source": [
    "#4. Describe a scenario in which using a nontagged category would have a significant impact on the program's outcomes ?\n",
    "\n",
    "Ans. Here in the below Code Snippet . decimal is not tagged or captured. It will useful in scenarios where the separator of value in a \n",
    "string is of no use and we need to capture only the values."
   ]
  },
  {
   "cell_type": "code",
   "execution_count": 1,
   "id": "e15b95e7-bdc1-4f04-9316-14de2d755f95",
   "metadata": {},
   "outputs": [
    {
     "data": {
      "text/plain": [
       "('135', '456')"
      ]
     },
     "execution_count": 1,
     "metadata": {},
     "output_type": "execute_result"
    }
   ],
   "source": [
    "import re\n",
    "\n",
    "text = \"135.456\"\n",
    "pattern = r\"(\\d+)(?:.)(\\d+)\"\n",
    "regobj = re.compile(pattern)\n",
    "matobj = regobj.search(text)\n",
    "matobj.groups()"
   ]
  },
  {
   "cell_type": "code",
   "execution_count": null,
   "id": "6047a0c1-1a38-4709-80b6-2dbd436e45b3",
   "metadata": {},
   "outputs": [],
   "source": [
    "#5. Unlike a normal regex pattern, a look-ahead condition does not consume the characters it examines. Describe a situation in which this could make a difference in the results of your programme ?\n",
    "\n",
    "Ans. While counting the number of multiple lines or mutiple sentence in a string the positive look ahead makes a difference, without \n",
    "which we wont get the correct count of lines or sentences in a string.\n"
   ]
  },
  {
   "cell_type": "code",
   "execution_count": null,
   "id": "bbc79ff6-1f7d-4bbe-abbe-f930c4f507a6",
   "metadata": {},
   "outputs": [],
   "source": [
    "#6. In standard expressions, what is the difference between positive look-ahead and negative look-ahead ?\n",
    "\n",
    "Ans. Positive Lookahead allows to add a condition for what follows. Negative Lookahead is similar, but it looks behind. \n",
    "That is, it allows to match a pattern only if there’s something before it."
   ]
  },
  {
   "cell_type": "code",
   "execution_count": null,
   "id": "49474aa4-5f3f-4be7-9337-81bdf392bbe8",
   "metadata": {},
   "outputs": [],
   "source": [
    "#7. What is the benefit of referring to groups by name rather than by number in a standard expression?\n",
    "\n",
    "Ans. Referring to groups by name rather than by number in a standard expression helps to keep the code clear and easy to understand.\n"
   ]
  },
  {
   "cell_type": "code",
   "execution_count": 2,
   "id": "721359fa-cb7e-42c6-b49c-6e7f5298b582",
   "metadata": {},
   "outputs": [
    {
     "data": {
      "text/plain": [
       "['The', 'the']"
      ]
     },
     "execution_count": 2,
     "metadata": {},
     "output_type": "execute_result"
    }
   ],
   "source": [
    "#8. Can you identify repeated items within a target string using named groups, as in \"The cow jumped over the moon\"?\n",
    "\n",
    "import re\n",
    "\n",
    "text = \"The cow jumped over the moon\"\n",
    "regobj = re.compile(r\"(?P<w1>The)\", re.I)\n",
    "regobj.findall(text)\n"
   ]
  },
  {
   "cell_type": "code",
   "execution_count": null,
   "id": "9347c232-edd9-4096-acc1-6438d642aee8",
   "metadata": {},
   "outputs": [],
   "source": [
    "#9. When parsing a string, what is at least one thing that the Scanner interface does for you that the re.findall feature does not ?\n",
    "\n",
    "Ans. re.findall() module is used to search for all occurrences that match a given pattern. re.findall() will iterate over all the \n",
    "lines of the file and will return all non-overlapping matches of pattern in a single step."
   ]
  },
  {
   "cell_type": "code",
   "execution_count": null,
   "id": "9ee3ef78-7cc2-476d-ac26-a0fe688dfc17",
   "metadata": {},
   "outputs": [],
   "source": [
    "#10. Does a scanner object have to be named scanner?\n",
    "\n",
    "Ans. Yes, It may have any name."
   ]
  }
 ],
 "metadata": {
  "kernelspec": {
   "display_name": "Python 3 (ipykernel)",
   "language": "python",
   "name": "python3"
  },
  "language_info": {
   "codemirror_mode": {
    "name": "ipython",
    "version": 3
   },
   "file_extension": ".py",
   "mimetype": "text/x-python",
   "name": "python",
   "nbconvert_exporter": "python",
   "pygments_lexer": "ipython3",
   "version": "3.10.6"
  }
 },
 "nbformat": 4,
 "nbformat_minor": 5
}
